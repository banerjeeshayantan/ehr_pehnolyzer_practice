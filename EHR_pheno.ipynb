{
 "cells": [
  {
   "cell_type": "code",
   "execution_count": 1,
   "metadata": {},
   "outputs": [],
   "source": [
    "import pandas as pd"
   ]
  },
  {
   "cell_type": "code",
   "execution_count": 10,
   "metadata": {},
   "outputs": [
    {
     "name": "stderr",
     "output_type": "stream",
     "text": [
      "/home/shayantan/anaconda3/envs/tensorflow/lib/python3.6/site-packages/IPython/core/interactiveshell.py:3020: DtypeWarning: Columns (4,5) have mixed types. Specify dtype option on import or set low_memory=False.\n",
      "  interactivity=interactivity, compiler=compiler, result=result)\n"
     ]
    }
   ],
   "source": [
    "data=pd.read_csv('/home/shayantan/Desktop/NOTEEVENTS.csv')"
   ]
  },
  {
   "cell_type": "code",
   "execution_count": 12,
   "metadata": {},
   "outputs": [],
   "source": [
    "diag = pd.read_csv('/home/shayantan/Desktop/DIAGNOSES_ICD.csv')\n"
   ]
  },
  {
   "cell_type": "code",
   "execution_count": 13,
   "metadata": {},
   "outputs": [
    {
     "data": {
      "text/html": [
       "<div>\n",
       "<style scoped>\n",
       "    .dataframe tbody tr th:only-of-type {\n",
       "        vertical-align: middle;\n",
       "    }\n",
       "\n",
       "    .dataframe tbody tr th {\n",
       "        vertical-align: top;\n",
       "    }\n",
       "\n",
       "    .dataframe thead th {\n",
       "        text-align: right;\n",
       "    }\n",
       "</style>\n",
       "<table border=\"1\" class=\"dataframe\">\n",
       "  <thead>\n",
       "    <tr style=\"text-align: right;\">\n",
       "      <th></th>\n",
       "      <th>ROW_ID</th>\n",
       "      <th>SUBJECT_ID</th>\n",
       "      <th>HADM_ID</th>\n",
       "      <th>SEQ_NUM</th>\n",
       "      <th>ICD9_CODE</th>\n",
       "    </tr>\n",
       "  </thead>\n",
       "  <tbody>\n",
       "    <tr>\n",
       "      <th>0</th>\n",
       "      <td>1297</td>\n",
       "      <td>109</td>\n",
       "      <td>172335</td>\n",
       "      <td>1.0</td>\n",
       "      <td>40301</td>\n",
       "    </tr>\n",
       "    <tr>\n",
       "      <th>1</th>\n",
       "      <td>1298</td>\n",
       "      <td>109</td>\n",
       "      <td>172335</td>\n",
       "      <td>2.0</td>\n",
       "      <td>486</td>\n",
       "    </tr>\n",
       "    <tr>\n",
       "      <th>2</th>\n",
       "      <td>1299</td>\n",
       "      <td>109</td>\n",
       "      <td>172335</td>\n",
       "      <td>3.0</td>\n",
       "      <td>58281</td>\n",
       "    </tr>\n",
       "    <tr>\n",
       "      <th>3</th>\n",
       "      <td>1300</td>\n",
       "      <td>109</td>\n",
       "      <td>172335</td>\n",
       "      <td>4.0</td>\n",
       "      <td>5855</td>\n",
       "    </tr>\n",
       "    <tr>\n",
       "      <th>4</th>\n",
       "      <td>1301</td>\n",
       "      <td>109</td>\n",
       "      <td>172335</td>\n",
       "      <td>5.0</td>\n",
       "      <td>4254</td>\n",
       "    </tr>\n",
       "  </tbody>\n",
       "</table>\n",
       "</div>"
      ],
      "text/plain": [
       "   ROW_ID  SUBJECT_ID  HADM_ID  SEQ_NUM ICD9_CODE\n",
       "0    1297         109   172335      1.0     40301\n",
       "1    1298         109   172335      2.0       486\n",
       "2    1299         109   172335      3.0     58281\n",
       "3    1300         109   172335      4.0      5855\n",
       "4    1301         109   172335      5.0      4254"
      ]
     },
     "execution_count": 13,
     "metadata": {},
     "output_type": "execute_result"
    }
   ],
   "source": [
    "diag.head(5)"
   ]
  },
  {
   "cell_type": "code",
   "execution_count": 16,
   "metadata": {},
   "outputs": [
    {
     "data": {
      "text/plain": [
       "Nursing/other        822497\n",
       "Radiology            522279\n",
       "Nursing              223556\n",
       "ECG                  209051\n",
       "Physician            141624\n",
       "Discharge summary     59652\n",
       "Echo                  45794\n",
       "Respiratory           31739\n",
       "Nutrition              9418\n",
       "General                8301\n",
       "Rehab Services         5431\n",
       "Social Work            2670\n",
       "Case Management         967\n",
       "Pharmacy                103\n",
       "Consult                  98\n",
       "Name: CATEGORY, dtype: int64"
      ]
     },
     "execution_count": 16,
     "metadata": {},
     "output_type": "execute_result"
    }
   ],
   "source": [
    "data.CATEGORY.value_counts()"
   ]
  },
  {
   "cell_type": "code",
   "execution_count": 17,
   "metadata": {},
   "outputs": [],
   "source": [
    "text=data[data.CATEGORY=='Discharge summary']"
   ]
  },
  {
   "cell_type": "code",
   "execution_count": 18,
   "metadata": {},
   "outputs": [],
   "source": [
    "data_key=pd.merge(diag[['SUBJECT_ID','HADM_ID','ICD9_CODE']],text[['SUBJECT_ID','HADM_ID','CATEGORY','TEXT']],on=['SUBJECT_ID','HADM_ID'],how='left')"
   ]
  },
  {
   "cell_type": "code",
   "execution_count": 19,
   "metadata": {},
   "outputs": [
    {
     "data": {
      "text/html": [
       "<div>\n",
       "<style scoped>\n",
       "    .dataframe tbody tr th:only-of-type {\n",
       "        vertical-align: middle;\n",
       "    }\n",
       "\n",
       "    .dataframe tbody tr th {\n",
       "        vertical-align: top;\n",
       "    }\n",
       "\n",
       "    .dataframe thead th {\n",
       "        text-align: right;\n",
       "    }\n",
       "</style>\n",
       "<table border=\"1\" class=\"dataframe\">\n",
       "  <thead>\n",
       "    <tr style=\"text-align: right;\">\n",
       "      <th></th>\n",
       "      <th>SUBJECT_ID</th>\n",
       "      <th>HADM_ID</th>\n",
       "      <th>ICD9_CODE</th>\n",
       "      <th>CATEGORY</th>\n",
       "      <th>TEXT</th>\n",
       "    </tr>\n",
       "  </thead>\n",
       "  <tbody>\n",
       "    <tr>\n",
       "      <th>0</th>\n",
       "      <td>109</td>\n",
       "      <td>172335</td>\n",
       "      <td>40301</td>\n",
       "      <td>Discharge summary</td>\n",
       "      <td>Admission Date:  [**2141-9-18**]              ...</td>\n",
       "    </tr>\n",
       "    <tr>\n",
       "      <th>1</th>\n",
       "      <td>109</td>\n",
       "      <td>172335</td>\n",
       "      <td>486</td>\n",
       "      <td>Discharge summary</td>\n",
       "      <td>Admission Date:  [**2141-9-18**]              ...</td>\n",
       "    </tr>\n",
       "    <tr>\n",
       "      <th>2</th>\n",
       "      <td>109</td>\n",
       "      <td>172335</td>\n",
       "      <td>58281</td>\n",
       "      <td>Discharge summary</td>\n",
       "      <td>Admission Date:  [**2141-9-18**]              ...</td>\n",
       "    </tr>\n",
       "    <tr>\n",
       "      <th>3</th>\n",
       "      <td>109</td>\n",
       "      <td>172335</td>\n",
       "      <td>5855</td>\n",
       "      <td>Discharge summary</td>\n",
       "      <td>Admission Date:  [**2141-9-18**]              ...</td>\n",
       "    </tr>\n",
       "    <tr>\n",
       "      <th>4</th>\n",
       "      <td>109</td>\n",
       "      <td>172335</td>\n",
       "      <td>4254</td>\n",
       "      <td>Discharge summary</td>\n",
       "      <td>Admission Date:  [**2141-9-18**]              ...</td>\n",
       "    </tr>\n",
       "  </tbody>\n",
       "</table>\n",
       "</div>"
      ],
      "text/plain": [
       "   SUBJECT_ID  HADM_ID ICD9_CODE           CATEGORY  \\\n",
       "0         109   172335     40301  Discharge summary   \n",
       "1         109   172335       486  Discharge summary   \n",
       "2         109   172335     58281  Discharge summary   \n",
       "3         109   172335      5855  Discharge summary   \n",
       "4         109   172335      4254  Discharge summary   \n",
       "\n",
       "                                                TEXT  \n",
       "0  Admission Date:  [**2141-9-18**]              ...  \n",
       "1  Admission Date:  [**2141-9-18**]              ...  \n",
       "2  Admission Date:  [**2141-9-18**]              ...  \n",
       "3  Admission Date:  [**2141-9-18**]              ...  \n",
       "4  Admission Date:  [**2141-9-18**]              ...  "
      ]
     },
     "execution_count": 19,
     "metadata": {},
     "output_type": "execute_result"
    }
   ],
   "source": [
    "data_key.head(5)"
   ]
  },
  {
   "cell_type": "code",
   "execution_count": 24,
   "metadata": {},
   "outputs": [],
   "source": [
    "data_sepsis=data_key[(data_key.ICD9_CODE=='99591') | (data_key.ICD9_CODE=='78552')]"
   ]
  },
  {
   "cell_type": "code",
   "execution_count": 26,
   "metadata": {},
   "outputs": [
    {
     "data": {
      "text/plain": [
       "(4182, 5)"
      ]
     },
     "execution_count": 26,
     "metadata": {},
     "output_type": "execute_result"
    }
   ],
   "source": [
    "data_sepsis.shape"
   ]
  },
  {
   "cell_type": "code",
   "execution_count": 27,
   "metadata": {},
   "outputs": [],
   "source": [
    "def preprocess_text(df):\n",
    "    # This function preprocesses the text by filling not a number and replacing new lines ('\\n') and carriage returns ('\\r')\n",
    "    df.TEXT = df.TEXT.fillna(' ')\n",
    "    df.TEXT =df.TEXT.str.replace('\\n',' ')\n",
    "    df.TEXT =df.TEXT.str.replace('\\r',' ')\n",
    "    df.TEXT = df.TEXT.str.replace('\\d+', '')\n",
    "    df.TEXT=df.TEXT.str.replace('\\[\\*\\*[^\\]]*\\*\\*\\]', '')\n",
    "    df.TEXT=df.TEXT.str.replace('<[^>]*>','')\n",
    "    df.TEXT=df.TEXT.str.lower()\n",
    "    df.TEXT=df.TEXT.str.replace(r'[^a-z0-9]+', ' ')\n",
    "    df.TEXT=df.TEXT.str.replace(r'\\b\\w\\b','').str.replace(r'\\s+', ' ')\n",
    "    df.TEXT=df.TEXT.str.replace(\" *\\\\b[[:alpha:]]{1,2}\\\\b *\", '')\n",
    "\n",
    "    return df"
   ]
  },
  {
   "cell_type": "code",
   "execution_count": 28,
   "metadata": {},
   "outputs": [
    {
     "name": "stderr",
     "output_type": "stream",
     "text": [
      "/home/shayantan/anaconda3/envs/tensorflow/lib/python3.6/site-packages/pandas/core/generic.py:4405: SettingWithCopyWarning: \n",
      "A value is trying to be set on a copy of a slice from a DataFrame.\n",
      "Try using .loc[row_indexer,col_indexer] = value instead\n",
      "\n",
      "See the caveats in the documentation: http://pandas.pydata.org/pandas-docs/stable/indexing.html#indexing-view-versus-copy\n",
      "  self[name] = value\n"
     ]
    }
   ],
   "source": [
    "data_cleaned_sepsis=preprocess_text(data_sepsis)"
   ]
  },
  {
   "cell_type": "code",
   "execution_count": 34,
   "metadata": {},
   "outputs": [
    {
     "data": {
      "text/plain": [
       "'admission date discharge date date of birth sex service medicine allergies aspirin attending chief complaint seizures major surgical or invasive procedure lumbar puncture intubation history of present illness with multiple sclerosis dementia seizures renal calculi recent lithotripsy and recurrent uti was being moved from bed to chair by lift and was noted by care taker to have convulsive motion in all four extremities given ativan mg by ems with completeresolution and transferred to hospital there she was seen to have additional convulsive movements given ativan again with ultimate resolution of symptoms however during the evalution at the osh she had sbp as low as central access was attempted at bilateral femoral arteries without success and therfore peripheral dopamine was initiated with moderate effect she was found to be hypothermic at with ph of she was given ceftriaxone gm imperically ct head at osh was normal patient was transferred to of note the patient was pn ciprofloxacin lithotripsy presumably for renal stones in the ed her vital signs were rectally hr bp rr she was mg of hydrocortisone for adrenal insufficiency and on chronic prednisone recently titrated down to mg po daily in addition she was given mg of linezolid given her history of utis only responsive to this antibiotic the patient was intubated and right subclavian central line was placed mg of versed was given while the patient was taken to the ct scanner for head and torso ct seen by neuro in the ed suggesting eeg repeat head ct restarting home dose antiepileptics and to treat the uti closely control the temperature today past medical history ms followed by dr in the past dementia with frontal dysfunction seizure disorder prior to recent events last sz was in htn hyponatremia osteoporosis leg fracture gait disturbance urinary incontinence social history lives with husband and has full time caregiver years the patient is not independent of her adls she is reported to follow commands and interact with broken speech but is generally non communicative at baseline family history sister and father had ms both deceased physical exam vs hr bp rr sa ac tv rate peep fio general intubate sedated heent has bits of blood in her hair disheveled no obvious trauma eyes closed anicteric once opened neck jvp is flat neck was very stiff on exam prior to intubation cardiovascular regular rate on telemtry difficult to auscultate in the setting of rhonchorus upper airway sounds when we examined her in the ed lungs ctab no abdomen soft nt nd positive bowel sounds extremities no clubbing cyanosis or edema neuro intubated and sedated minimally responsive to pain no corneal reflex on right but does have corneal reflex on the left pupils reactive bilaterally pertinent results pm urine blood lg nitrite neg protein glucose neg ketone neg bilirubin neg urobilngn neg ph leuk mod pm urine rbc wbc bacteria few yeast none epi pm lactate am cerebrospinal fluid csf wbc rbc polys lymphs monos cxr impression left retrocardiac opacity is seen which may represent an area of consolidation and or atelectasis small left pleural effusion may also be present ct chest abdomen impression small bilateral pleural effusions and adjacent atelectasis bilateral renal calculi without evidence of hydronephrosis or hydroureter the largest stone on the right appears similar in size but there are several calcific densities within the right renal pelvis which may represent small fragments from reported recent lithotripsy no perinephric fluid collections are identified small mm enhancing focus within the liver which was not seen on the prior study but this may reflect differences in contrast timing this is not completely evaluated on this study however the differentials would include hemangioma fnh adenoma though malignancy cannot be entirely excluded ct head ct head without iv contrast no hemorrhage or mass effect is identified the ventricles are symmetric there is no shift of normally midline structures the white matter differentiation is stable there is marked enlargement of the ventricles which is symmetric and stable in comparison to prior study soft tissue and osseous structures are within normal limits impression no mass effect or hemorrhage is identified no interval change from the prior exam from eeg impression this is an abnormal eeg due to the frequent electrographic seizures with origin in the left hemisphere left hemisphere slowing slow and disorganized background and infrequent suppressed background activitiy the first abnormality suggests frequent electrographic seizures with origin in the left hemisphere with secondary generalization the left hemisphere slowing suggests corresponding subcortical dysfunction the last two abnormalities suggest severe encephalopathy which may be seen with infections toxic metabolic abnormalities or medication effect eeg impression this hour video eeg telemetry demonstrated many electrographic seizures characterized by rhythmic hz spikes and sharp waves seen with widespread distribution bilaterally although sometimes with left hemisphere emphasis it was not clear whether there was any clinical correlate to these electrographic seizures at other times frequent widespread epileptiform discharges were seen in more isolated or non rhythmic manner the background was slow and disorganized throughout the recording suggestive of moderate encephalopathy brief hospital course ms is an year old woman with advanced multiple sclerosis dementia seizures renal stones and recurrent uti who presented after two seizure episodes seizure the patient has presented several times in the past with seizures in the setting of urinary tract infections in the patient presented in non convulsive status epilepticus that was felt to be triggered by uti in the patient again presented with seizure and uti but this time the seizure was felt to be triggered by hyponatremia on admission the patient was therapeutic on dilantin based on neurology consultation recommendations her lamotrigine was increased by mg each weak to achieve goal of mg as an outpatient her dilantin can be decreased by week it should be noted that repeat dilantin levels should be checked every days and adjusted accordingly while the patient is taking ciprofloxacin hypotension etiology of acute decompensation was likely sepsis in the setting of elevated mixed venous oxygen saturation no elevation of cardiac enzymes unchanged ekg and recurrent uti required low dose iv dopamine than changed to levophed for improved predictability and greater inotropic effect weaned to off pt was placed on high dose steroids on admission given chronic prednisone of mg daily she was tapered back to prednisone mg daily infection wbc from to over hours grossly positive ua patient had very stiff neck on physical exam in the ed prior to intubation however this was unlikely meningitis as lumbar tap performed in the micu revealed only wbc and gram stain was negative she was given linezolid for history of vre uti and ceftriaxone for gram negative coverage urine blood csf and sputum cultures were all negative given negative cultures she was changed to linezolid and ciprofloxacin to complete day course three days prior to discharge the patient developed slight leucocytosis to and temp blood cultures and chest ray were repeated without evidence of infection ua was grossly contaminated urine cultures did not reveal any growth respiratory failure patient was intubated for airway protection and did well with extubation on istory of nephrolithiasis the patient has history of nephrolithiasis lithotripsy on admission the patient was without evidence for obstruction by ct she should follow up with her urologist dr as an outpatient should clinical suspicion dictate further evaluation fen tube feeds speech and swallow evaluation revealed failure of pt to adequately protect her airway while swallowing she should remain npo her ng tube needs to be pulled to prevent erosion as soon as she is re evaluated by speech and swallow at rehab code status dnr dni medications on admission medications lamotrigine mg po bid phenytoin sodium extended qam and qpm sodium chloride tid pyridoxine mg po daily cyanocobalamin mcg po once day docusate sodium mg po bid possibly the liquid ascorbic acid mg po tid ferrous sulfate po daily the following are from hospitalist note calcium carbonate mg po tid cholecalciferol vitamin unit po daily discharge medications ciprofloxacin mg tablet sig one tablet po qh every hours for days disp tablet refills linezolid mg tablet sig one tablet po qh every hours for days docusate sodium mg ml liquid sig one po bid times day bisacodyl mg tablet delayed release sig two tablet delayed release po daily daily as needed phenytoin mg ml suspension sig one po qam once day in the morning phenytoin mg ml suspension sig two po qpm once day in the evening vitamin mcg tablet sig one tablet po once day pyridoxine mg tablet sig one tablet po once day colace mg capsule sig one capsule po twice day as needed for constipation lamotrigine mg tablet sig two tablet po twice day ferrous sulfate mg ml liquid sig one po daily daily to be given at least two hours after ciprofloxacin dose prednisone mg tablet sig one tablet po once day discharge disposition extended care facility discharge diagnosis sepsis suspected urinary source respiratory failure seizure disorder multiple sclerosis discharge condition fair discharge instructions you were admitted for seizure and low blood pressure you required intensive care unit monitoring with mechanical ventilation and medications to support your blood pressure you were treated for suspected urinary tract infection take all of your medications as prescribed call your doctor or of any fevers furhter seizure activity shortness of breath or chest pains or any other concerning symptoms followup instructions please keep the following appointment md phone date time '"
      ]
     },
     "execution_count": 34,
     "metadata": {},
     "output_type": "execute_result"
    }
   ],
   "source": [
    "data_cleaned_sepsis.TEXT.values[767]"
   ]
  },
  {
   "cell_type": "code",
   "execution_count": null,
   "metadata": {},
   "outputs": [],
   "source": []
  }
 ],
 "metadata": {
  "kernelspec": {
   "display_name": "mykernel",
   "language": "python",
   "name": "mykernel"
  },
  "language_info": {
   "codemirror_mode": {
    "name": "ipython",
    "version": 3
   },
   "file_extension": ".py",
   "mimetype": "text/x-python",
   "name": "python",
   "nbconvert_exporter": "python",
   "pygments_lexer": "ipython3",
   "version": "3.6.7"
  }
 },
 "nbformat": 4,
 "nbformat_minor": 2
}
